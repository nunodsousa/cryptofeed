{
 "cells": [
  {
   "cell_type": "code",
   "execution_count": null,
   "id": "4d75ccf1",
   "metadata": {},
   "outputs": [],
   "source": [
    "'''\n",
    "Copyright (C) 2017-2021  Bryant Moscon - bmoscon@gmail.com\n",
    "Please see the LICENSE file for the terms and conditions\n",
    "associated with this software.\n",
    "'''\n",
    "import asyncio\n",
    "\n",
    "from cryptofeed import FeedHandler\n",
    "from cryptofeed.callback import BookCallback, TickerCallback, TradeCallback\n",
    "from cryptofeed.defines import BID, ASK, COINBASE, L2_BOOK, TICKER, TRADES\n",
    "from cryptofeed.exchanges import Binance, Coinbase"
   ]
  },
  {
   "cell_type": "code",
   "execution_count": null,
   "id": "b8d17c6c",
   "metadata": {},
   "outputs": [],
   "source": [
    "# Examples of some handlers for different updates. These currently don't do much.\n",
    "# Handlers should conform to the patterns/signatures in callback.py\n",
    "# Handlers can be normal methods/functions or async. The feedhandler is paused\n",
    "# while the callbacks are being handled (unless they in turn await other functions or I/O)\n",
    "# so they should be as lightweight as possible\n",
    "async def ticker(feed, symbol, bid, ask, receipt_timestamp):\n",
    "    print(f'Feed: {feed} Pair: {symbol} Bid: {bid} Ask: {ask}')\n",
    "\n",
    "\n",
    "async def trade(feed, symbol, order_id, timestamp, side, amount, price, receipt_timestamp):\n",
    "    print(f\"Timestamp: {timestamp} Feed: {feed} Pair: {symbol} ID: {order_id} Side: {side} Amount: {amount} Price: {price}\")\n",
    "\n",
    "\n",
    "async def book(feed, symbol, book, timestamp, receipt_timestamp):\n",
    "    print(f'Timestamp: {timestamp} Feed: {feed} Pair: {symbol} Book Bid Size is {len(book[BID])} Ask Size is {len(book[ASK])}')\n",
    "\n",
    "\n",
    "async def aio_task():\n",
    "    while True:\n",
    "        print(\"Other task running\")\n",
    "        await asyncio.sleep(1)\n",
    "\n",
    "\n",
    "def main():\n",
    "    f = FeedHandler()\n",
    "    # Note: EXX is extremely unreliable - sometimes a connection can take many many retries\n",
    "    # f.add_feed(EXX(symbols=['BTC-USDT'], channels=[L2_BOOK, TRADES], callbacks={L2_BOOK: BookCallback(book), TRADES: TradeCallback(trade)}))\n",
    "    f.add_feed(Binance(symbols=['BTC-USDT'], channels=[TRADES, TICKER, L2_BOOK], callbacks={L2_BOOK: BookCallback(book), TRADES: TradeCallback(trade), TICKER: TickerCallback(ticker)}))\n",
    "    f.add_feed(COINBASE, symbols=['BTC-USD'], channels=[TICKER], callbacks={TICKER: TickerCallback(ticker)})\n",
    "    f.add_feed(Coinbase(symbols=['BTC-USD'], channels=[TRADES], callbacks={TRADES: TradeCallback(trade)}))\n",
    "    f.add_feed(Coinbase(subscription={L2_BOOK: ['BTC-USD', 'ETH-USD'], TRADES: ['ETH-USD', 'BTC-USD']}, callbacks={TRADES: TradeCallback(trade), L2_BOOK: BookCallback(book)}))\n",
    "\n",
    "    f.run(start_loop=False)\n",
    "\n",
    "    loop = asyncio.get_event_loop()\n",
    "    loop.create_task(aio_task())\n",
    "    loop.run_forever()\n",
    "\n",
    "\n",
    "if __name__ == '__main__':\n",
    "    main()"
   ]
  },
  {
   "cell_type": "code",
   "execution_count": null,
   "id": "c0279e8b",
   "metadata": {},
   "outputs": [],
   "source": []
  }
 ],
 "metadata": {
  "kernelspec": {
   "display_name": "Python 3",
   "language": "python",
   "name": "python3"
  },
  "language_info": {
   "codemirror_mode": {
    "name": "ipython",
    "version": 3
   },
   "file_extension": ".py",
   "mimetype": "text/x-python",
   "name": "python",
   "nbconvert_exporter": "python",
   "pygments_lexer": "ipython3",
   "version": "3.8.5"
  }
 },
 "nbformat": 4,
 "nbformat_minor": 5
}
